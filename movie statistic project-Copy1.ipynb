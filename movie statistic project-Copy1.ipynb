{
 "cells": [
  {
   "cell_type": "code",
   "execution_count": 1,
   "id": "7e19a9a3",
   "metadata": {},
   "outputs": [],
   "source": [
    "## first import the needed libraries\n",
    "import pandas as pd\n",
    "import numpy as NA ##data frame in  dealing with numbers \n",
    "import matplotlib.pyplot as plt ## will be used in vaisulazing the data\n",
    "import scipy\n",
    "from scipy import stats ##works in statstical"
   ]
  },
  {
   "cell_type": "code",
   "execution_count": 5,
   "id": "bdb9d04c",
   "metadata": {},
   "outputs": [
    {
     "data": {
      "text/html": [
       "<div>\n",
       "<style scoped>\n",
       "    .dataframe tbody tr th:only-of-type {\n",
       "        vertical-align: middle;\n",
       "    }\n",
       "\n",
       "    .dataframe tbody tr th {\n",
       "        vertical-align: top;\n",
       "    }\n",
       "\n",
       "    .dataframe thead th {\n",
       "        text-align: right;\n",
       "    }\n",
       "</style>\n",
       "<table border=\"1\" class=\"dataframe\">\n",
       "  <thead>\n",
       "    <tr style=\"text-align: right;\">\n",
       "      <th></th>\n",
       "      <th>movie_title</th>\n",
       "      <th>production_date</th>\n",
       "      <th>genres</th>\n",
       "      <th>runtime_minutes</th>\n",
       "      <th>director_name</th>\n",
       "      <th>director_professions</th>\n",
       "      <th>director_birthYear</th>\n",
       "      <th>director_deathYear</th>\n",
       "      <th>movie_averageRating</th>\n",
       "      <th>movie_numerOfVotes</th>\n",
       "      <th>approval_Index</th>\n",
       "      <th>Production budget $</th>\n",
       "      <th>Domestic gross $</th>\n",
       "      <th>Worldwide gross $</th>\n",
       "    </tr>\n",
       "  </thead>\n",
       "  <tbody>\n",
       "    <tr>\n",
       "      <th>0</th>\n",
       "      <td>Avatar: The Way of Water</td>\n",
       "      <td>2022-12-09</td>\n",
       "      <td>Action,Adventure,Fantasy</td>\n",
       "      <td>192.0</td>\n",
       "      <td>James Cameron</td>\n",
       "      <td>writer,producer,director</td>\n",
       "      <td>1954</td>\n",
       "      <td>alive</td>\n",
       "      <td>7.8</td>\n",
       "      <td>277543.0</td>\n",
       "      <td>7.061101</td>\n",
       "      <td>460000000</td>\n",
       "      <td>667830256</td>\n",
       "      <td>2265935552</td>\n",
       "    </tr>\n",
       "    <tr>\n",
       "      <th>1</th>\n",
       "      <td>Avengers: Endgame</td>\n",
       "      <td>2019-04-23</td>\n",
       "      <td>Action,Adventure,Drama</td>\n",
       "      <td>181.0</td>\n",
       "      <td>-</td>\n",
       "      <td>-</td>\n",
       "      <td>-</td>\n",
       "      <td>-</td>\n",
       "      <td>8.4</td>\n",
       "      <td>1143642.0</td>\n",
       "      <td>8.489533</td>\n",
       "      <td>400000000</td>\n",
       "      <td>858373000</td>\n",
       "      <td>2794731755</td>\n",
       "    </tr>\n",
       "    <tr>\n",
       "      <th>2</th>\n",
       "      <td>Pirates of the Caribbean: On Stranger Tides</td>\n",
       "      <td>2011-05-20</td>\n",
       "      <td>Action,Adventure,Fantasy</td>\n",
       "      <td>137.0</td>\n",
       "      <td>Rob Marshall</td>\n",
       "      <td>director,miscellaneous,producer</td>\n",
       "      <td>1960</td>\n",
       "      <td>alive</td>\n",
       "      <td>6.6</td>\n",
       "      <td>533763.0</td>\n",
       "      <td>6.272064</td>\n",
       "      <td>379000000</td>\n",
       "      <td>241071802</td>\n",
       "      <td>1045713802</td>\n",
       "    </tr>\n",
       "    <tr>\n",
       "      <th>3</th>\n",
       "      <td>Avengers: Age of Ultron</td>\n",
       "      <td>2015-04-22</td>\n",
       "      <td>Action,Adventure,Sci-Fi</td>\n",
       "      <td>141.0</td>\n",
       "      <td>Joss Whedon</td>\n",
       "      <td>writer,producer,director</td>\n",
       "      <td>1964</td>\n",
       "      <td>alive</td>\n",
       "      <td>7.3</td>\n",
       "      <td>870573.0</td>\n",
       "      <td>7.214013</td>\n",
       "      <td>365000000</td>\n",
       "      <td>459005868</td>\n",
       "      <td>1395316979</td>\n",
       "    </tr>\n",
       "    <tr>\n",
       "      <th>4</th>\n",
       "      <td>Avengers: Infinity War</td>\n",
       "      <td>2018-04-25</td>\n",
       "      <td>Action,Adventure,Sci-Fi</td>\n",
       "      <td>149.0</td>\n",
       "      <td>-</td>\n",
       "      <td>-</td>\n",
       "      <td>-</td>\n",
       "      <td>-</td>\n",
       "      <td>8.4</td>\n",
       "      <td>1091968.0</td>\n",
       "      <td>8.460958</td>\n",
       "      <td>300000000</td>\n",
       "      <td>678815482</td>\n",
       "      <td>2048359754</td>\n",
       "    </tr>\n",
       "    <tr>\n",
       "      <th>...</th>\n",
       "      <td>...</td>\n",
       "      <td>...</td>\n",
       "      <td>...</td>\n",
       "      <td>...</td>\n",
       "      <td>...</td>\n",
       "      <td>...</td>\n",
       "      <td>...</td>\n",
       "      <td>...</td>\n",
       "      <td>...</td>\n",
       "      <td>...</td>\n",
       "      <td>...</td>\n",
       "      <td>...</td>\n",
       "      <td>...</td>\n",
       "      <td>...</td>\n",
       "    </tr>\n",
       "    <tr>\n",
       "      <th>4375</th>\n",
       "      <td>Super Size Me</td>\n",
       "      <td>2004-05-07</td>\n",
       "      <td>Documentary</td>\n",
       "      <td>100.0</td>\n",
       "      <td>Morgan Spurlock</td>\n",
       "      <td>producer,writer,director</td>\n",
       "      <td>1970</td>\n",
       "      <td>alive</td>\n",
       "      <td>7.2</td>\n",
       "      <td>110078.0</td>\n",
       "      <td>6.017902</td>\n",
       "      <td>65000</td>\n",
       "      <td>11529368</td>\n",
       "      <td>22233808</td>\n",
       "    </tr>\n",
       "    <tr>\n",
       "      <th>4376</th>\n",
       "      <td>The Brothers McMullen</td>\n",
       "      <td>1995-08-09</td>\n",
       "      <td>Comedy,Drama,Romance</td>\n",
       "      <td>98.0</td>\n",
       "      <td>Edward Burns</td>\n",
       "      <td>actor,writer,producer</td>\n",
       "      <td>1968</td>\n",
       "      <td>alive</td>\n",
       "      <td>6.6</td>\n",
       "      <td>7986.0</td>\n",
       "      <td>4.231464</td>\n",
       "      <td>50000</td>\n",
       "      <td>10426506</td>\n",
       "      <td>10426506</td>\n",
       "    </tr>\n",
       "    <tr>\n",
       "      <th>4377</th>\n",
       "      <td>Gabriela</td>\n",
       "      <td>2001-03-16</td>\n",
       "      <td>Drama,Romance</td>\n",
       "      <td>93.0</td>\n",
       "      <td>Vincent Jay Miller</td>\n",
       "      <td>producer,director,writer</td>\n",
       "      <td>1973</td>\n",
       "      <td>alive</td>\n",
       "      <td>4.9</td>\n",
       "      <td>1593.0</td>\n",
       "      <td>2.526405</td>\n",
       "      <td>50000</td>\n",
       "      <td>2335352</td>\n",
       "      <td>2335352</td>\n",
       "    </tr>\n",
       "    <tr>\n",
       "      <th>4378</th>\n",
       "      <td>Tiny Furniture</td>\n",
       "      <td>2010-11-12</td>\n",
       "      <td>Comedy,Drama,Romance</td>\n",
       "      <td>98.0</td>\n",
       "      <td>Lena Dunham</td>\n",
       "      <td>writer,actress,producer</td>\n",
       "      <td>1986</td>\n",
       "      <td>alive</td>\n",
       "      <td>6.2</td>\n",
       "      <td>14595.0</td>\n",
       "      <td>4.242085</td>\n",
       "      <td>50000</td>\n",
       "      <td>391674</td>\n",
       "      <td>424149</td>\n",
       "    </tr>\n",
       "    <tr>\n",
       "      <th>4379</th>\n",
       "      <td>Counting</td>\n",
       "      <td>2015-07-31</td>\n",
       "      <td>Documentary</td>\n",
       "      <td>111.0</td>\n",
       "      <td>Jem Cohen</td>\n",
       "      <td>director,cinematographer,editor</td>\n",
       "      <td>1962</td>\n",
       "      <td>alive</td>\n",
       "      <td>6.2</td>\n",
       "      <td>163.0</td>\n",
       "      <td>2.191765</td>\n",
       "      <td>50000</td>\n",
       "      <td>8374</td>\n",
       "      <td>8374</td>\n",
       "    </tr>\n",
       "  </tbody>\n",
       "</table>\n",
       "<p>4380 rows × 14 columns</p>\n",
       "</div>"
      ],
      "text/plain": [
       "                                      movie_title production_date  \\\n",
       "0                        Avatar: The Way of Water      2022-12-09   \n",
       "1                               Avengers: Endgame      2019-04-23   \n",
       "2     Pirates of the Caribbean: On Stranger Tides      2011-05-20   \n",
       "3                         Avengers: Age of Ultron      2015-04-22   \n",
       "4                          Avengers: Infinity War      2018-04-25   \n",
       "...                                           ...             ...   \n",
       "4375                                Super Size Me      2004-05-07   \n",
       "4376                        The Brothers McMullen      1995-08-09   \n",
       "4377                                     Gabriela      2001-03-16   \n",
       "4378                               Tiny Furniture      2010-11-12   \n",
       "4379                                     Counting      2015-07-31   \n",
       "\n",
       "                        genres  runtime_minutes       director_name  \\\n",
       "0     Action,Adventure,Fantasy            192.0       James Cameron   \n",
       "1       Action,Adventure,Drama            181.0                   -   \n",
       "2     Action,Adventure,Fantasy            137.0        Rob Marshall   \n",
       "3      Action,Adventure,Sci-Fi            141.0         Joss Whedon   \n",
       "4      Action,Adventure,Sci-Fi            149.0                   -   \n",
       "...                        ...              ...                 ...   \n",
       "4375               Documentary            100.0     Morgan Spurlock   \n",
       "4376      Comedy,Drama,Romance             98.0        Edward Burns   \n",
       "4377             Drama,Romance             93.0  Vincent Jay Miller   \n",
       "4378      Comedy,Drama,Romance             98.0         Lena Dunham   \n",
       "4379               Documentary            111.0           Jem Cohen   \n",
       "\n",
       "                 director_professions director_birthYear director_deathYear  \\\n",
       "0            writer,producer,director               1954              alive   \n",
       "1                                   -                  -                  -   \n",
       "2     director,miscellaneous,producer               1960              alive   \n",
       "3            writer,producer,director               1964              alive   \n",
       "4                                   -                  -                  -   \n",
       "...                               ...                ...                ...   \n",
       "4375         producer,writer,director               1970              alive   \n",
       "4376            actor,writer,producer               1968              alive   \n",
       "4377         producer,director,writer               1973              alive   \n",
       "4378          writer,actress,producer               1986              alive   \n",
       "4379  director,cinematographer,editor               1962              alive   \n",
       "\n",
       "      movie_averageRating  movie_numerOfVotes  approval_Index  \\\n",
       "0                     7.8            277543.0        7.061101   \n",
       "1                     8.4           1143642.0        8.489533   \n",
       "2                     6.6            533763.0        6.272064   \n",
       "3                     7.3            870573.0        7.214013   \n",
       "4                     8.4           1091968.0        8.460958   \n",
       "...                   ...                 ...             ...   \n",
       "4375                  7.2            110078.0        6.017902   \n",
       "4376                  6.6              7986.0        4.231464   \n",
       "4377                  4.9              1593.0        2.526405   \n",
       "4378                  6.2             14595.0        4.242085   \n",
       "4379                  6.2               163.0        2.191765   \n",
       "\n",
       "      Production budget $  Domestic gross $  Worldwide gross $  \n",
       "0               460000000         667830256         2265935552  \n",
       "1               400000000         858373000         2794731755  \n",
       "2               379000000         241071802         1045713802  \n",
       "3               365000000         459005868         1395316979  \n",
       "4               300000000         678815482         2048359754  \n",
       "...                   ...               ...                ...  \n",
       "4375                65000          11529368           22233808  \n",
       "4376                50000          10426506           10426506  \n",
       "4377                50000           2335352            2335352  \n",
       "4378                50000            391674             424149  \n",
       "4379                50000              8374               8374  \n",
       "\n",
       "[4380 rows x 14 columns]"
      ]
     },
     "execution_count": 5,
     "metadata": {},
     "output_type": "execute_result"
    }
   ],
   "source": [
    "#read the data file\n",
    "df= pd.read_csv('/Users/taghridyassergomaa/Downloads/movie_statistic_dataset.csv')\n",
    "df"
   ]
  },
  {
   "cell_type": "code",
   "execution_count": 6,
   "id": "abb5e1e1",
   "metadata": {},
   "outputs": [
    {
     "data": {
      "text/plain": [
       "movie_title             0\n",
       "production_date         0\n",
       "genres                  0\n",
       "runtime_minutes         0\n",
       "director_name           0\n",
       "director_professions    0\n",
       "director_birthYear      0\n",
       "director_deathYear      0\n",
       "movie_averageRating     0\n",
       "movie_numerOfVotes      0\n",
       "approval_Index          0\n",
       "Production budget $     0\n",
       "Domestic gross $        0\n",
       "Worldwide gross $       0\n",
       "dtype: int64"
      ]
     },
     "execution_count": 6,
     "metadata": {},
     "output_type": "execute_result"
    }
   ],
   "source": [
    "df.isnull().sum()"
   ]
  },
  {
   "cell_type": "code",
   "execution_count": 7,
   "id": "7c540460",
   "metadata": {},
   "outputs": [
    {
     "data": {
      "text/plain": [
       "movie_title              object\n",
       "production_date          object\n",
       "genres                   object\n",
       "runtime_minutes         float64\n",
       "director_name            object\n",
       "director_professions     object\n",
       "director_birthYear       object\n",
       "director_deathYear       object\n",
       "movie_averageRating     float64\n",
       "movie_numerOfVotes      float64\n",
       "approval_Index          float64\n",
       "Production budget $       int64\n",
       "Domestic gross $          int64\n",
       "Worldwide gross $         int64\n",
       "dtype: object"
      ]
     },
     "execution_count": 7,
     "metadata": {},
     "output_type": "execute_result"
    }
   ],
   "source": [
    "df.dtypes ## returning the data type for each column "
   ]
  },
  {
   "cell_type": "code",
   "execution_count": 8,
   "id": "2d39f213",
   "metadata": {},
   "outputs": [
    {
     "data": {
      "text/html": [
       "<div>\n",
       "<style scoped>\n",
       "    .dataframe tbody tr th:only-of-type {\n",
       "        vertical-align: middle;\n",
       "    }\n",
       "\n",
       "    .dataframe tbody tr th {\n",
       "        vertical-align: top;\n",
       "    }\n",
       "\n",
       "    .dataframe thead th {\n",
       "        text-align: right;\n",
       "    }\n",
       "</style>\n",
       "<table border=\"1\" class=\"dataframe\">\n",
       "  <thead>\n",
       "    <tr style=\"text-align: right;\">\n",
       "      <th></th>\n",
       "      <th>runtime_minutes</th>\n",
       "      <th>movie_averageRating</th>\n",
       "      <th>movie_numerOfVotes</th>\n",
       "      <th>approval_Index</th>\n",
       "      <th>Production budget $</th>\n",
       "      <th>Domestic gross $</th>\n",
       "      <th>Worldwide gross $</th>\n",
       "    </tr>\n",
       "  </thead>\n",
       "  <tbody>\n",
       "    <tr>\n",
       "      <th>count</th>\n",
       "      <td>4380.000000</td>\n",
       "      <td>4380.000000</td>\n",
       "      <td>4.380000e+03</td>\n",
       "      <td>4380.000000</td>\n",
       "      <td>4.380000e+03</td>\n",
       "      <td>4.380000e+03</td>\n",
       "      <td>4.380000e+03</td>\n",
       "    </tr>\n",
       "    <tr>\n",
       "      <th>mean</th>\n",
       "      <td>109.786073</td>\n",
       "      <td>6.407443</td>\n",
       "      <td>1.369603e+05</td>\n",
       "      <td>5.032633</td>\n",
       "      <td>3.869377e+07</td>\n",
       "      <td>5.256385e+07</td>\n",
       "      <td>1.149192e+08</td>\n",
       "    </tr>\n",
       "    <tr>\n",
       "      <th>std</th>\n",
       "      <td>20.375581</td>\n",
       "      <td>1.024000</td>\n",
       "      <td>2.150757e+05</td>\n",
       "      <td>1.384890</td>\n",
       "      <td>4.573772e+07</td>\n",
       "      <td>7.508813e+07</td>\n",
       "      <td>2.006894e+08</td>\n",
       "    </tr>\n",
       "    <tr>\n",
       "      <th>min</th>\n",
       "      <td>63.000000</td>\n",
       "      <td>1.500000</td>\n",
       "      <td>5.000000e+00</td>\n",
       "      <td>0.395487</td>\n",
       "      <td>5.000000e+04</td>\n",
       "      <td>2.640000e+02</td>\n",
       "      <td>4.230000e+02</td>\n",
       "    </tr>\n",
       "    <tr>\n",
       "      <th>25%</th>\n",
       "      <td>96.000000</td>\n",
       "      <td>5.800000</td>\n",
       "      <td>2.140650e+04</td>\n",
       "      <td>4.178267</td>\n",
       "      <td>1.000000e+07</td>\n",
       "      <td>8.866234e+06</td>\n",
       "      <td>1.299260e+07</td>\n",
       "    </tr>\n",
       "    <tr>\n",
       "      <th>50%</th>\n",
       "      <td>106.000000</td>\n",
       "      <td>6.500000</td>\n",
       "      <td>6.497950e+04</td>\n",
       "      <td>5.039369</td>\n",
       "      <td>2.300000e+07</td>\n",
       "      <td>2.832282e+07</td>\n",
       "      <td>4.448247e+07</td>\n",
       "    </tr>\n",
       "    <tr>\n",
       "      <th>75%</th>\n",
       "      <td>120.000000</td>\n",
       "      <td>7.100000</td>\n",
       "      <td>1.598605e+05</td>\n",
       "      <td>5.944203</td>\n",
       "      <td>5.000000e+07</td>\n",
       "      <td>6.410166e+07</td>\n",
       "      <td>1.280182e+08</td>\n",
       "    </tr>\n",
       "    <tr>\n",
       "      <th>max</th>\n",
       "      <td>271.000000</td>\n",
       "      <td>9.300000</td>\n",
       "      <td>2.695887e+06</td>\n",
       "      <td>10.000000</td>\n",
       "      <td>4.600000e+08</td>\n",
       "      <td>8.583730e+08</td>\n",
       "      <td>2.923706e+09</td>\n",
       "    </tr>\n",
       "  </tbody>\n",
       "</table>\n",
       "</div>"
      ],
      "text/plain": [
       "       runtime_minutes  movie_averageRating  movie_numerOfVotes  \\\n",
       "count      4380.000000          4380.000000        4.380000e+03   \n",
       "mean        109.786073             6.407443        1.369603e+05   \n",
       "std          20.375581             1.024000        2.150757e+05   \n",
       "min          63.000000             1.500000        5.000000e+00   \n",
       "25%          96.000000             5.800000        2.140650e+04   \n",
       "50%         106.000000             6.500000        6.497950e+04   \n",
       "75%         120.000000             7.100000        1.598605e+05   \n",
       "max         271.000000             9.300000        2.695887e+06   \n",
       "\n",
       "       approval_Index  Production budget $  Domestic gross $  \\\n",
       "count     4380.000000         4.380000e+03      4.380000e+03   \n",
       "mean         5.032633         3.869377e+07      5.256385e+07   \n",
       "std          1.384890         4.573772e+07      7.508813e+07   \n",
       "min          0.395487         5.000000e+04      2.640000e+02   \n",
       "25%          4.178267         1.000000e+07      8.866234e+06   \n",
       "50%          5.039369         2.300000e+07      2.832282e+07   \n",
       "75%          5.944203         5.000000e+07      6.410166e+07   \n",
       "max         10.000000         4.600000e+08      8.583730e+08   \n",
       "\n",
       "       Worldwide gross $  \n",
       "count       4.380000e+03  \n",
       "mean        1.149192e+08  \n",
       "std         2.006894e+08  \n",
       "min         4.230000e+02  \n",
       "25%         1.299260e+07  \n",
       "50%         4.448247e+07  \n",
       "75%         1.280182e+08  \n",
       "max         2.923706e+09  "
      ]
     },
     "execution_count": 8,
     "metadata": {},
     "output_type": "execute_result"
    }
   ],
   "source": [
    "df.describe()"
   ]
  },
  {
   "cell_type": "code",
   "execution_count": 9,
   "id": "25e80b40",
   "metadata": {
    "scrolled": true
   },
   "outputs": [
    {
     "data": {
      "text/plain": [
       "movie_title             0\n",
       "production_date         0\n",
       "genres                  0\n",
       "runtime_minutes         0\n",
       "director_name           0\n",
       "director_professions    0\n",
       "director_birthYear      0\n",
       "director_deathYear      0\n",
       "movie_averageRating     0\n",
       "movie_numerOfVotes      0\n",
       "approval_Index          0\n",
       "Production budget $     0\n",
       "Domestic gross $        0\n",
       "Worldwide gross $       0\n",
       "dtype: int64"
      ]
     },
     "execution_count": 9,
     "metadata": {},
     "output_type": "execute_result"
    }
   ],
   "source": [
    "df.isnull().sum()"
   ]
  },
  {
   "cell_type": "code",
   "execution_count": 10,
   "id": "16c9837d",
   "metadata": {},
   "outputs": [
    {
     "data": {
      "text/plain": [
       "array(['alive', '-', '2022', '2021', '2020', '2012', '2015', '2008',\n",
       "       '1998', '2017', '2019', '2002', '2016', '2014', '1999', '2018',\n",
       "       '2013', '2005', '2004', '1993', '2010', '2011', '2006', '1989',\n",
       "       '2001', '1991', '2003', '2007', '1988', '1987', '1992', '1967',\n",
       "       '1983', '2009', '1981', '1959', '1979', '1990', '1976', '1994',\n",
       "       '1978', '1995', '1986', '1982', '1984', '1962', '1980', '1997',\n",
       "       '1973', '1949', '1977', '1952', '1966', '2000', '1943', '1985',\n",
       "       '1945', '1940', '1955', '1944', '1934', '1948', '1931'],\n",
       "      dtype=object)"
      ]
     },
     "execution_count": 10,
     "metadata": {},
     "output_type": "execute_result"
    }
   ],
   "source": [
    "df['director_deathYear'].unique()"
   ]
  },
  {
   "cell_type": "code",
   "execution_count": 27,
   "id": "99a36f8a",
   "metadata": {},
   "outputs": [
    {
     "data": {
      "text/plain": [
       "0            James Cameron\n",
       "1                     null\n",
       "2             Rob Marshall\n",
       "3              Joss Whedon\n",
       "4                     null\n",
       "               ...        \n",
       "4375       Morgan Spurlock\n",
       "4376          Edward Burns\n",
       "4377    Vincent Jay Miller\n",
       "4378           Lena Dunham\n",
       "4379             Jem Cohen\n",
       "Name: director_name, Length: 4380, dtype: object"
      ]
     },
     "execution_count": 27,
     "metadata": {},
     "output_type": "execute_result"
    }
   ],
   "source": [
    "df['director_name'] = df['director_name'].replace({'-': 'NaN'})\n",
    "df['director_name']\n"
   ]
  },
  {
   "cell_type": "markdown",
   "id": "eb982420",
   "metadata": {},
   "source": [
    "#  delete the missing values"
   ]
  },
  {
   "cell_type": "code",
   "execution_count": 55,
   "id": "e99a1764",
   "metadata": {
    "scrolled": true
   },
   "outputs": [
    {
     "data": {
      "text/plain": [
       "0              writer,producer,director\n",
       "2       director,miscellaneous,producer\n",
       "3              writer,producer,director\n",
       "5              director,producer,writer\n",
       "6       producer,director,miscellaneous\n",
       "                     ...               \n",
       "4375           producer,writer,director\n",
       "4376              actor,writer,producer\n",
       "4377           producer,director,writer\n",
       "4378            writer,actress,producer\n",
       "4379    director,cinematographer,editor\n",
       "Name: director_professions, Length: 4047, dtype: object"
      ]
     },
     "execution_count": 55,
     "metadata": {},
     "output_type": "execute_result"
    }
   ],
   "source": [
    "for i in df['director_name'] :        ##to delete missing values\n",
    "    con=df['director_professions'] == '-'\n",
    "    df = df.loc[~con]\n",
    "df['director_professions']"
   ]
  },
  {
   "cell_type": "code",
   "execution_count": 51,
   "id": "8315272c",
   "metadata": {},
   "outputs": [
    {
     "data": {
      "text/plain": [
       "0            James Cameron\n",
       "2             Rob Marshall\n",
       "3              Joss Whedon\n",
       "5              Zack Snyder\n",
       "6               Sam Mendes\n",
       "               ...        \n",
       "4375       Morgan Spurlock\n",
       "4376          Edward Burns\n",
       "4377    Vincent Jay Miller\n",
       "4378           Lena Dunham\n",
       "4379             Jem Cohen\n",
       "Name: director_name, Length: 4054, dtype: object"
      ]
     },
     "execution_count": 51,
     "metadata": {},
     "output_type": "execute_result"
    }
   ],
   "source": [
    "# delete the missing values\n",
    "con=df['director_name'] == 'null'\n",
    "df = df.loc[~con]\n",
    "df['director_name']"
   ]
  },
  {
   "cell_type": "code",
   "execution_count": 58,
   "id": "48b8f45e",
   "metadata": {},
   "outputs": [
    {
     "data": {
      "text/plain": [
       "0       1954\n",
       "2       1960\n",
       "3       1964\n",
       "5       1966\n",
       "6       1965\n",
       "        ... \n",
       "4375    1970\n",
       "4376    1968\n",
       "4377    1973\n",
       "4378    1986\n",
       "4379    1962\n",
       "Name: director_birthYear, Length: 4047, dtype: object"
      ]
     },
     "execution_count": 58,
     "metadata": {},
     "output_type": "execute_result"
    }
   ],
   "source": [
    "con=df['director_birthYear'] == '-'\n",
    "df = df.loc[~con]\n",
    "df['director_birthYear']"
   ]
  },
  {
   "cell_type": "code",
   "execution_count": 59,
   "id": "f592c025",
   "metadata": {},
   "outputs": [
    {
     "data": {
      "text/plain": [
       "0       alive\n",
       "2       alive\n",
       "3       alive\n",
       "5       alive\n",
       "6       alive\n",
       "        ...  \n",
       "4375    alive\n",
       "4376    alive\n",
       "4377    alive\n",
       "4378    alive\n",
       "4379    alive\n",
       "Name: director_deathYear, Length: 4047, dtype: object"
      ]
     },
     "execution_count": 59,
     "metadata": {},
     "output_type": "execute_result"
    }
   ],
   "source": [
    "con=df['director_deathYear'] == '-'\n",
    "df = df.loc[~con]\n",
    "df['director_deathYear']"
   ]
  },
  {
   "cell_type": "code",
   "execution_count": 52,
   "id": "b72be458",
   "metadata": {},
   "outputs": [
    {
     "data": {
      "text/plain": [
       "array(['Avatar: The Way of Water',\n",
       "       'Pirates of the Caribbean: On Stranger Tides',\n",
       "       'Avengers: Age of Ultron', ..., 'Gabriela', 'Tiny Furniture',\n",
       "       'Counting'], dtype=object)"
      ]
     },
     "execution_count": 52,
     "metadata": {},
     "output_type": "execute_result"
    }
   ],
   "source": [
    "df['movie_title'].unique()"
   ]
  },
  {
   "cell_type": "code",
   "execution_count": 53,
   "id": "3966ff13",
   "metadata": {},
   "outputs": [
    {
     "data": {
      "text/plain": [
       "array(['2022-12-09', '2011-05-20', '2015-04-22', ..., '2020-05-01',\n",
       "       '1995-08-09', '2015-07-31'], dtype=object)"
      ]
     },
     "execution_count": 53,
     "metadata": {},
     "output_type": "execute_result"
    }
   ],
   "source": [
    "df['production_date'].unique()"
   ]
  },
  {
   "cell_type": "code",
   "execution_count": 54,
   "id": "1c4a04a7",
   "metadata": {},
   "outputs": [
    {
     "name": "stdout",
     "output_type": "stream",
     "text": [
      "Brothers                 4\n",
      "Redemption               3\n",
      "The Visit                3\n",
      "Halloween                3\n",
      "Weekend                  3\n",
      "                        ..\n",
      "Aloha                    1\n",
      "Blue Streak              1\n",
      "Never Say Never Again    1\n",
      "Hot Tub Time Machine     1\n",
      "Counting                 1\n",
      "Name: movie_title, Length: 3947, dtype: int64\n"
     ]
    }
   ],
   "source": [
    "counts =df['movie_title'].value_counts()\n",
    "\n",
    "print(counts)"
   ]
  },
  {
   "cell_type": "markdown",
   "id": "8b5bb044",
   "metadata": {},
   "source": [
    "### Creating a dataFrame from the readed file\n"
   ]
  },
  {
   "cell_type": "code",
   "execution_count": 67,
   "id": "df153344",
   "metadata": {},
   "outputs": [],
   "source": [
    "Ratings_attribute='movie_averageRating'\n",
    "PlayingTime_attribute='runtime_minutes'\n"
   ]
  },
  {
   "cell_type": "code",
   "execution_count": 68,
   "id": "a236bc63",
   "metadata": {},
   "outputs": [],
   "source": [
    "temporary_df = pd.read_csv('/Users/taghridyassergomaa/Downloads/movie_statistic_dataset.csv', usecols=[Ratings_attribute,PlayingTime_attribute])\n"
   ]
  },
  {
   "cell_type": "code",
   "execution_count": 69,
   "id": "20a5874c",
   "metadata": {},
   "outputs": [
    {
     "data": {
      "text/html": [
       "<div>\n",
       "<style scoped>\n",
       "    .dataframe tbody tr th:only-of-type {\n",
       "        vertical-align: middle;\n",
       "    }\n",
       "\n",
       "    .dataframe tbody tr th {\n",
       "        vertical-align: top;\n",
       "    }\n",
       "\n",
       "    .dataframe thead th {\n",
       "        text-align: right;\n",
       "    }\n",
       "</style>\n",
       "<table border=\"1\" class=\"dataframe\">\n",
       "  <thead>\n",
       "    <tr style=\"text-align: right;\">\n",
       "      <th></th>\n",
       "      <th>runtime_minutes</th>\n",
       "      <th>movie_averageRating</th>\n",
       "    </tr>\n",
       "  </thead>\n",
       "  <tbody>\n",
       "    <tr>\n",
       "      <th>0</th>\n",
       "      <td>192.0</td>\n",
       "      <td>7.8</td>\n",
       "    </tr>\n",
       "    <tr>\n",
       "      <th>1</th>\n",
       "      <td>181.0</td>\n",
       "      <td>8.4</td>\n",
       "    </tr>\n",
       "    <tr>\n",
       "      <th>2</th>\n",
       "      <td>137.0</td>\n",
       "      <td>6.6</td>\n",
       "    </tr>\n",
       "  </tbody>\n",
       "</table>\n",
       "</div>"
      ],
      "text/plain": [
       "   runtime_minutes  movie_averageRating\n",
       "0            192.0                  7.8\n",
       "1            181.0                  8.4\n",
       "2            137.0                  6.6"
      ]
     },
     "execution_count": 69,
     "metadata": {},
     "output_type": "execute_result"
    }
   ],
   "source": [
    "temporary_df[:3]"
   ]
  },
  {
   "cell_type": "code",
   "execution_count": 70,
   "id": "2742fc60",
   "metadata": {},
   "outputs": [
    {
     "data": {
      "text/plain": [
       "6.6    208\n",
       "6.4    203\n",
       "6.2    199\n",
       "6.5    182\n",
       "6.7    173\n",
       "      ... \n",
       "2.0      1\n",
       "1.6      1\n",
       "8.9      1\n",
       "9.2      1\n",
       "2.6      1\n",
       "Name: movie_averageRating, Length: 74, dtype: int64"
      ]
     },
     "execution_count": 70,
     "metadata": {},
     "output_type": "execute_result"
    }
   ],
   "source": [
    "temporary_df['movie_averageRating'].value_counts()"
   ]
  },
  {
   "cell_type": "code",
   "execution_count": 71,
   "id": "5f77e1b9",
   "metadata": {},
   "outputs": [
    {
     "data": {
      "text/plain": [
       "101.0    115\n",
       "100.0    115\n",
       "98.0     113\n",
       "97.0     110\n",
       "104.0    109\n",
       "        ... \n",
       "168.0      1\n",
       "177.0      1\n",
       "166.0      1\n",
       "201.0      1\n",
       "184.0      1\n",
       "Name: runtime_minutes, Length: 138, dtype: int64"
      ]
     },
     "execution_count": 71,
     "metadata": {},
     "output_type": "execute_result"
    }
   ],
   "source": [
    "temporary_df['runtime_minutes'].value_counts()"
   ]
  },
  {
   "cell_type": "code",
   "execution_count": 73,
   "id": "c31cb370",
   "metadata": {},
   "outputs": [
    {
     "data": {
      "text/plain": [
       "101.0    115\n",
       "100.0    115\n",
       "98.0     113\n",
       "97.0     110\n",
       "104.0    109\n",
       "        ... \n",
       "168.0      1\n",
       "177.0      1\n",
       "166.0      1\n",
       "201.0      1\n",
       "184.0      1\n",
       "Name: runtime_minutes, Length: 138, dtype: int64"
      ]
     },
     "execution_count": 73,
     "metadata": {},
     "output_type": "execute_result"
    }
   ],
   "source": [
    "temporary_df['runtime_minutes'].value_counts(dropna = False) #the NaN values are removed"
   ]
  },
  {
   "cell_type": "code",
   "execution_count": 75,
   "id": "15273c14",
   "metadata": {},
   "outputs": [
    {
     "data": {
      "text/plain": [
       "6.6    208\n",
       "6.4    203\n",
       "6.2    199\n",
       "6.5    182\n",
       "6.7    173\n",
       "      ... \n",
       "2.0      1\n",
       "1.6      1\n",
       "8.9      1\n",
       "9.2      1\n",
       "2.6      1\n",
       "Name: movie_averageRating, Length: 74, dtype: int64"
      ]
     },
     "execution_count": 75,
     "metadata": {},
     "output_type": "execute_result"
    }
   ],
   "source": [
    "temporary_df['movie_averageRating'].value_counts(dropna = False) "
   ]
  },
  {
   "cell_type": "code",
   "execution_count": 76,
   "id": "0ab1bd19",
   "metadata": {},
   "outputs": [],
   "source": [
    "temporary_df= temporary_df.dropna()"
   ]
  },
  {
   "cell_type": "code",
   "execution_count": 78,
   "id": "7b351dd2",
   "metadata": {},
   "outputs": [
    {
     "data": {
      "text/plain": [
       "101.0    115\n",
       "100.0    115\n",
       "98.0     113\n",
       "97.0     110\n",
       "104.0    109\n",
       "        ... \n",
       "168.0      1\n",
       "177.0      1\n",
       "166.0      1\n",
       "201.0      1\n",
       "184.0      1\n",
       "Name: runtime_minutes, Length: 138, dtype: int64"
      ]
     },
     "execution_count": 78,
     "metadata": {},
     "output_type": "execute_result"
    }
   ],
   "source": [
    "temporary_df['runtime_minutes'].value_counts(dropna = False)"
   ]
  },
  {
   "cell_type": "code",
   "execution_count": 79,
   "id": "a2677a06",
   "metadata": {},
   "outputs": [
    {
     "data": {
      "text/plain": [
       "6.6    208\n",
       "6.4    203\n",
       "6.2    199\n",
       "6.5    182\n",
       "6.7    173\n",
       "      ... \n",
       "2.0      1\n",
       "1.6      1\n",
       "8.9      1\n",
       "9.2      1\n",
       "2.6      1\n",
       "Name: movie_averageRating, Length: 74, dtype: int64"
      ]
     },
     "execution_count": 79,
     "metadata": {},
     "output_type": "execute_result"
    }
   ],
   "source": [
    "temporary_df['movie_averageRating'].value_counts(dropna = False)"
   ]
  },
  {
   "cell_type": "code",
   "execution_count": 80,
   "id": "3e6b518b",
   "metadata": {},
   "outputs": [],
   "source": [
    "temporary_runtime_df = pd.read_csv('/Users/taghridyassergomaa/Downloads/movie_statistic_dataset.csv', usecols=[PlayingTime_attribute])"
   ]
  },
  {
   "cell_type": "code",
   "execution_count": 81,
   "id": "ec19c442",
   "metadata": {},
   "outputs": [
    {
     "data": {
      "text/html": [
       "<div>\n",
       "<style scoped>\n",
       "    .dataframe tbody tr th:only-of-type {\n",
       "        vertical-align: middle;\n",
       "    }\n",
       "\n",
       "    .dataframe tbody tr th {\n",
       "        vertical-align: top;\n",
       "    }\n",
       "\n",
       "    .dataframe thead th {\n",
       "        text-align: right;\n",
       "    }\n",
       "</style>\n",
       "<table border=\"1\" class=\"dataframe\">\n",
       "  <thead>\n",
       "    <tr style=\"text-align: right;\">\n",
       "      <th></th>\n",
       "      <th>runtime_minutes</th>\n",
       "    </tr>\n",
       "  </thead>\n",
       "  <tbody>\n",
       "    <tr>\n",
       "      <th>0</th>\n",
       "      <td>192.0</td>\n",
       "    </tr>\n",
       "    <tr>\n",
       "      <th>1</th>\n",
       "      <td>181.0</td>\n",
       "    </tr>\n",
       "    <tr>\n",
       "      <th>2</th>\n",
       "      <td>137.0</td>\n",
       "    </tr>\n",
       "    <tr>\n",
       "      <th>3</th>\n",
       "      <td>141.0</td>\n",
       "    </tr>\n",
       "    <tr>\n",
       "      <th>4</th>\n",
       "      <td>149.0</td>\n",
       "    </tr>\n",
       "  </tbody>\n",
       "</table>\n",
       "</div>"
      ],
      "text/plain": [
       "   runtime_minutes\n",
       "0            192.0\n",
       "1            181.0\n",
       "2            137.0\n",
       "3            141.0\n",
       "4            149.0"
      ]
     },
     "execution_count": 81,
     "metadata": {},
     "output_type": "execute_result"
    }
   ],
   "source": [
    "temporary_runtime_df[:5]"
   ]
  },
  {
   "cell_type": "code",
   "execution_count": 89,
   "id": "5ef169d8",
   "metadata": {},
   "outputs": [
    {
     "data": {
      "text/html": [
       "<div>\n",
       "<style scoped>\n",
       "    .dataframe tbody tr th:only-of-type {\n",
       "        vertical-align: middle;\n",
       "    }\n",
       "\n",
       "    .dataframe tbody tr th {\n",
       "        vertical-align: top;\n",
       "    }\n",
       "\n",
       "    .dataframe thead th {\n",
       "        text-align: right;\n",
       "    }\n",
       "</style>\n",
       "<table border=\"1\" class=\"dataframe\">\n",
       "  <thead>\n",
       "    <tr style=\"text-align: right;\">\n",
       "      <th></th>\n",
       "      <th>runtime_minutes</th>\n",
       "      <th>runtime_minutes_bins</th>\n",
       "    </tr>\n",
       "  </thead>\n",
       "  <tbody>\n",
       "    <tr>\n",
       "      <th>0</th>\n",
       "      <td>192.0</td>\n",
       "      <td>(175, 200]</td>\n",
       "    </tr>\n",
       "    <tr>\n",
       "      <th>1</th>\n",
       "      <td>181.0</td>\n",
       "      <td>(175, 200]</td>\n",
       "    </tr>\n",
       "    <tr>\n",
       "      <th>2</th>\n",
       "      <td>137.0</td>\n",
       "      <td>(125, 150]</td>\n",
       "    </tr>\n",
       "  </tbody>\n",
       "</table>\n",
       "</div>"
      ],
      "text/plain": [
       "   runtime_minutes runtime_minutes_bins\n",
       "0            192.0           (175, 200]\n",
       "1            181.0           (175, 200]\n",
       "2            137.0           (125, 150]"
      ]
     },
     "execution_count": 89,
     "metadata": {},
     "output_type": "execute_result"
    }
   ],
   "source": [
    "temporary_runtime_df['runtime_minutes_bins'] = pd.cut(x=temporary_runtime_df['runtime_minutes'], bins=[60,75,100,125,150,175, 200,280])\n",
    "temporary_runtime_df[:3]"
   ]
  },
  {
   "cell_type": "markdown",
   "id": "280dc9ee",
   "metadata": {},
   "source": [
    "### Visualization"
   ]
  },
  {
   "cell_type": "code",
   "execution_count": 90,
   "id": "abbcc22e",
   "metadata": {},
   "outputs": [
    {
     "data": {
      "text/plain": [
       "Text(0.5, 1.0, ' movie_averageRating vs untime_minutes Distribution')"
      ]
     },
     "execution_count": 90,
     "metadata": {},
     "output_type": "execute_result"
    },
    {
     "data": {
      "image/png": "[encoded data removed]",
      "text/plain": [
       "<Figure size 432x288 with 1 Axes>"
      ]
     },
     "metadata": {
      "needs_background": "light"
     },
     "output_type": "display_data"
    }
   ],
   "source": [
    "import seaborn as sns\n",
    "sns.countplot(y='movie_averageRating', data=df, hue=temporary_runtime_df['runtime_minutes_bins'], orient='h')\n",
    "plt.title(\" movie_averageRating vs untime_minutes Distribution\")"
   ]
  },
  {
   "cell_type": "code",
   "execution_count": 91,
   "id": "9bd98f85",
   "metadata": {},
   "outputs": [
    {
     "data": {
      "text/plain": [
       "<AxesSubplot:>"
      ]
     },
     "execution_count": 91,
     "metadata": {},
     "output_type": "execute_result"
    },
    {
     "data": {
      "image/png": "[encoded data removed]",
      "text/plain": [
       "<Figure size 432x288 with 1 Axes>"
      ]
     },
     "metadata": {
      "needs_background": "light"
     },
     "output_type": "display_data"
    }
   ],
   "source": [
    "temporary_runtime_df['runtime_minutes_bins'].value_counts().plot(kind = 'bar')"
   ]
  },
  {
   "cell_type": "code",
   "execution_count": 92,
   "id": "a5b8c610",
   "metadata": {},
   "outputs": [
    {
     "data": {
      "text/plain": [
       "<AxesSubplot:>"
      ]
     },
     "execution_count": 92,
     "metadata": {},
     "output_type": "execute_result"
    },
    {
     "data": {
      "image/png": "[encoded data removed]",
      "text/plain": [
       "<Figure size 432x288 with 1 Axes>"
      ]
     },
     "metadata": {
      "needs_background": "light"
     },
     "output_type": "display_data"
    }
   ],
   "source": [
    "temporary_df['movie_averageRating'].value_counts().plot(kind = 'bar')"
   ]
  },
  {
   "cell_type": "markdown",
   "id": "dc6d9815",
   "metadata": {},
   "source": [
    "# crosstab"
   ]
  },
  {
   "cell_type": "code",
   "execution_count": 94,
   "id": "f1cfc1b9",
   "metadata": {},
   "outputs": [
    {
     "data": {
      "text/html": [
       "<div>\n",
       "<style scoped>\n",
       "    .dataframe tbody tr th:only-of-type {\n",
       "        vertical-align: middle;\n",
       "    }\n",
       "\n",
       "    .dataframe tbody tr th {\n",
       "        vertical-align: top;\n",
       "    }\n",
       "\n",
       "    .dataframe thead th {\n",
       "        text-align: right;\n",
       "    }\n",
       "</style>\n",
       "<table border=\"1\" class=\"dataframe\">\n",
       "  <thead>\n",
       "    <tr style=\"text-align: right;\">\n",
       "      <th>runtime_minutes_bins</th>\n",
       "      <th>(60, 75]</th>\n",
       "      <th>(75, 100]</th>\n",
       "      <th>(100, 125]</th>\n",
       "      <th>(125, 150]</th>\n",
       "      <th>(150, 175]</th>\n",
       "      <th>(175, 200]</th>\n",
       "      <th>(200, 280]</th>\n",
       "    </tr>\n",
       "    <tr>\n",
       "      <th>movie_averageRating</th>\n",
       "      <th></th>\n",
       "      <th></th>\n",
       "      <th></th>\n",
       "      <th></th>\n",
       "      <th></th>\n",
       "      <th></th>\n",
       "      <th></th>\n",
       "    </tr>\n",
       "  </thead>\n",
       "  <tbody>\n",
       "    <tr>\n",
       "      <th>1.5</th>\n",
       "      <td>0</td>\n",
       "      <td>1</td>\n",
       "      <td>0</td>\n",
       "      <td>0</td>\n",
       "      <td>0</td>\n",
       "      <td>0</td>\n",
       "      <td>0</td>\n",
       "    </tr>\n",
       "    <tr>\n",
       "      <th>1.6</th>\n",
       "      <td>0</td>\n",
       "      <td>0</td>\n",
       "      <td>1</td>\n",
       "      <td>0</td>\n",
       "      <td>0</td>\n",
       "      <td>0</td>\n",
       "      <td>0</td>\n",
       "    </tr>\n",
       "    <tr>\n",
       "      <th>1.9</th>\n",
       "      <td>0</td>\n",
       "      <td>2</td>\n",
       "      <td>0</td>\n",
       "      <td>0</td>\n",
       "      <td>0</td>\n",
       "      <td>0</td>\n",
       "      <td>0</td>\n",
       "    </tr>\n",
       "    <tr>\n",
       "      <th>2.0</th>\n",
       "      <td>1</td>\n",
       "      <td>0</td>\n",
       "      <td>0</td>\n",
       "      <td>0</td>\n",
       "      <td>0</td>\n",
       "      <td>0</td>\n",
       "      <td>0</td>\n",
       "    </tr>\n",
       "    <tr>\n",
       "      <th>2.1</th>\n",
       "      <td>0</td>\n",
       "      <td>2</td>\n",
       "      <td>1</td>\n",
       "      <td>0</td>\n",
       "      <td>0</td>\n",
       "      <td>0</td>\n",
       "      <td>0</td>\n",
       "    </tr>\n",
       "    <tr>\n",
       "      <th>...</th>\n",
       "      <td>...</td>\n",
       "      <td>...</td>\n",
       "      <td>...</td>\n",
       "      <td>...</td>\n",
       "      <td>...</td>\n",
       "      <td>...</td>\n",
       "      <td>...</td>\n",
       "    </tr>\n",
       "    <tr>\n",
       "      <th>8.8</th>\n",
       "      <td>0</td>\n",
       "      <td>0</td>\n",
       "      <td>1</td>\n",
       "      <td>3</td>\n",
       "      <td>0</td>\n",
       "      <td>2</td>\n",
       "      <td>0</td>\n",
       "    </tr>\n",
       "    <tr>\n",
       "      <th>8.9</th>\n",
       "      <td>0</td>\n",
       "      <td>0</td>\n",
       "      <td>0</td>\n",
       "      <td>0</td>\n",
       "      <td>1</td>\n",
       "      <td>0</td>\n",
       "      <td>0</td>\n",
       "    </tr>\n",
       "    <tr>\n",
       "      <th>9.0</th>\n",
       "      <td>1</td>\n",
       "      <td>0</td>\n",
       "      <td>0</td>\n",
       "      <td>0</td>\n",
       "      <td>1</td>\n",
       "      <td>0</td>\n",
       "      <td>1</td>\n",
       "    </tr>\n",
       "    <tr>\n",
       "      <th>9.2</th>\n",
       "      <td>0</td>\n",
       "      <td>0</td>\n",
       "      <td>0</td>\n",
       "      <td>0</td>\n",
       "      <td>1</td>\n",
       "      <td>0</td>\n",
       "      <td>0</td>\n",
       "    </tr>\n",
       "    <tr>\n",
       "      <th>9.3</th>\n",
       "      <td>0</td>\n",
       "      <td>0</td>\n",
       "      <td>0</td>\n",
       "      <td>1</td>\n",
       "      <td>0</td>\n",
       "      <td>0</td>\n",
       "      <td>0</td>\n",
       "    </tr>\n",
       "  </tbody>\n",
       "</table>\n",
       "<p>74 rows × 7 columns</p>\n",
       "</div>"
      ],
      "text/plain": [
       "runtime_minutes_bins  (60, 75]  (75, 100]  (100, 125]  (125, 150]  (150, 175]  \\\n",
       "movie_averageRating                                                             \n",
       "1.5                          0          1           0           0           0   \n",
       "1.6                          0          0           1           0           0   \n",
       "1.9                          0          2           0           0           0   \n",
       "2.0                          1          0           0           0           0   \n",
       "2.1                          0          2           1           0           0   \n",
       "...                        ...        ...         ...         ...         ...   \n",
       "8.8                          0          0           1           3           0   \n",
       "8.9                          0          0           0           0           1   \n",
       "9.0                          1          0           0           0           1   \n",
       "9.2                          0          0           0           0           1   \n",
       "9.3                          0          0           0           1           0   \n",
       "\n",
       "runtime_minutes_bins  (175, 200]  (200, 280]  \n",
       "movie_averageRating                           \n",
       "1.5                            0           0  \n",
       "1.6                            0           0  \n",
       "1.9                            0           0  \n",
       "2.0                            0           0  \n",
       "2.1                            0           0  \n",
       "...                          ...         ...  \n",
       "8.8                            2           0  \n",
       "8.9                            0           0  \n",
       "9.0                            0           1  \n",
       "9.2                            0           0  \n",
       "9.3                            0           0  \n",
       "\n",
       "[74 rows x 7 columns]"
      ]
     },
     "execution_count": 94,
     "metadata": {},
     "output_type": "execute_result"
    }
   ],
   "source": [
    "df_first_cross= pd.crosstab(temporary_df['movie_averageRating'], temporary_runtime_df['runtime_minutes_bins'])\n",
    "df_first_cross"
   ]
  },
  {
   "cell_type": "code",
   "execution_count": 97,
   "id": "bc466835",
   "metadata": {},
   "outputs": [
    {
     "data": {
      "text/html": [
       "<div>\n",
       "<style scoped>\n",
       "    .dataframe tbody tr th:only-of-type {\n",
       "        vertical-align: middle;\n",
       "    }\n",
       "\n",
       "    .dataframe tbody tr th {\n",
       "        vertical-align: top;\n",
       "    }\n",
       "\n",
       "    .dataframe thead th {\n",
       "        text-align: right;\n",
       "    }\n",
       "</style>\n",
       "<table border=\"1\" class=\"dataframe\">\n",
       "  <thead>\n",
       "    <tr style=\"text-align: right;\">\n",
       "      <th>movie_averageRating</th>\n",
       "      <th>1.5</th>\n",
       "      <th>1.6</th>\n",
       "      <th>1.9</th>\n",
       "      <th>2.0</th>\n",
       "      <th>2.1</th>\n",
       "      <th>2.2</th>\n",
       "      <th>2.4</th>\n",
       "      <th>2.5</th>\n",
       "      <th>2.6</th>\n",
       "      <th>2.8</th>\n",
       "      <th>...</th>\n",
       "      <th>8.3</th>\n",
       "      <th>8.4</th>\n",
       "      <th>8.5</th>\n",
       "      <th>8.6</th>\n",
       "      <th>8.7</th>\n",
       "      <th>8.8</th>\n",
       "      <th>8.9</th>\n",
       "      <th>9.0</th>\n",
       "      <th>9.2</th>\n",
       "      <th>9.3</th>\n",
       "    </tr>\n",
       "    <tr>\n",
       "      <th>runtime_minutes_bins</th>\n",
       "      <th></th>\n",
       "      <th></th>\n",
       "      <th></th>\n",
       "      <th></th>\n",
       "      <th></th>\n",
       "      <th></th>\n",
       "      <th></th>\n",
       "      <th></th>\n",
       "      <th></th>\n",
       "      <th></th>\n",
       "      <th></th>\n",
       "      <th></th>\n",
       "      <th></th>\n",
       "      <th></th>\n",
       "      <th></th>\n",
       "      <th></th>\n",
       "      <th></th>\n",
       "      <th></th>\n",
       "      <th></th>\n",
       "      <th></th>\n",
       "      <th></th>\n",
       "    </tr>\n",
       "  </thead>\n",
       "  <tbody>\n",
       "    <tr>\n",
       "      <th>(60, 75]</th>\n",
       "      <td>0</td>\n",
       "      <td>0</td>\n",
       "      <td>0</td>\n",
       "      <td>1</td>\n",
       "      <td>0</td>\n",
       "      <td>0</td>\n",
       "      <td>0</td>\n",
       "      <td>0</td>\n",
       "      <td>0</td>\n",
       "      <td>0</td>\n",
       "      <td>...</td>\n",
       "      <td>0</td>\n",
       "      <td>0</td>\n",
       "      <td>0</td>\n",
       "      <td>0</td>\n",
       "      <td>0</td>\n",
       "      <td>0</td>\n",
       "      <td>0</td>\n",
       "      <td>1</td>\n",
       "      <td>0</td>\n",
       "      <td>0</td>\n",
       "    </tr>\n",
       "    <tr>\n",
       "      <th>(75, 100]</th>\n",
       "      <td>1</td>\n",
       "      <td>0</td>\n",
       "      <td>2</td>\n",
       "      <td>0</td>\n",
       "      <td>2</td>\n",
       "      <td>2</td>\n",
       "      <td>2</td>\n",
       "      <td>2</td>\n",
       "      <td>0</td>\n",
       "      <td>3</td>\n",
       "      <td>...</td>\n",
       "      <td>4</td>\n",
       "      <td>0</td>\n",
       "      <td>2</td>\n",
       "      <td>1</td>\n",
       "      <td>0</td>\n",
       "      <td>0</td>\n",
       "      <td>0</td>\n",
       "      <td>0</td>\n",
       "      <td>0</td>\n",
       "      <td>0</td>\n",
       "    </tr>\n",
       "    <tr>\n",
       "      <th>(100, 125]</th>\n",
       "      <td>0</td>\n",
       "      <td>1</td>\n",
       "      <td>0</td>\n",
       "      <td>0</td>\n",
       "      <td>1</td>\n",
       "      <td>0</td>\n",
       "      <td>1</td>\n",
       "      <td>0</td>\n",
       "      <td>1</td>\n",
       "      <td>1</td>\n",
       "      <td>...</td>\n",
       "      <td>6</td>\n",
       "      <td>4</td>\n",
       "      <td>6</td>\n",
       "      <td>2</td>\n",
       "      <td>1</td>\n",
       "      <td>1</td>\n",
       "      <td>0</td>\n",
       "      <td>0</td>\n",
       "      <td>0</td>\n",
       "      <td>0</td>\n",
       "    </tr>\n",
       "    <tr>\n",
       "      <th>(125, 150]</th>\n",
       "      <td>0</td>\n",
       "      <td>0</td>\n",
       "      <td>0</td>\n",
       "      <td>0</td>\n",
       "      <td>0</td>\n",
       "      <td>0</td>\n",
       "      <td>0</td>\n",
       "      <td>0</td>\n",
       "      <td>0</td>\n",
       "      <td>0</td>\n",
       "      <td>...</td>\n",
       "      <td>5</td>\n",
       "      <td>3</td>\n",
       "      <td>3</td>\n",
       "      <td>2</td>\n",
       "      <td>3</td>\n",
       "      <td>3</td>\n",
       "      <td>0</td>\n",
       "      <td>0</td>\n",
       "      <td>0</td>\n",
       "      <td>1</td>\n",
       "    </tr>\n",
       "    <tr>\n",
       "      <th>(150, 175]</th>\n",
       "      <td>0</td>\n",
       "      <td>0</td>\n",
       "      <td>0</td>\n",
       "      <td>0</td>\n",
       "      <td>0</td>\n",
       "      <td>0</td>\n",
       "      <td>0</td>\n",
       "      <td>0</td>\n",
       "      <td>0</td>\n",
       "      <td>0</td>\n",
       "      <td>...</td>\n",
       "      <td>4</td>\n",
       "      <td>3</td>\n",
       "      <td>3</td>\n",
       "      <td>2</td>\n",
       "      <td>0</td>\n",
       "      <td>0</td>\n",
       "      <td>1</td>\n",
       "      <td>1</td>\n",
       "      <td>1</td>\n",
       "      <td>0</td>\n",
       "    </tr>\n",
       "    <tr>\n",
       "      <th>(175, 200]</th>\n",
       "      <td>0</td>\n",
       "      <td>0</td>\n",
       "      <td>0</td>\n",
       "      <td>0</td>\n",
       "      <td>0</td>\n",
       "      <td>0</td>\n",
       "      <td>0</td>\n",
       "      <td>0</td>\n",
       "      <td>0</td>\n",
       "      <td>0</td>\n",
       "      <td>...</td>\n",
       "      <td>1</td>\n",
       "      <td>2</td>\n",
       "      <td>0</td>\n",
       "      <td>1</td>\n",
       "      <td>0</td>\n",
       "      <td>2</td>\n",
       "      <td>0</td>\n",
       "      <td>0</td>\n",
       "      <td>0</td>\n",
       "      <td>0</td>\n",
       "    </tr>\n",
       "    <tr>\n",
       "      <th>(200, 280]</th>\n",
       "      <td>0</td>\n",
       "      <td>0</td>\n",
       "      <td>0</td>\n",
       "      <td>0</td>\n",
       "      <td>0</td>\n",
       "      <td>0</td>\n",
       "      <td>0</td>\n",
       "      <td>0</td>\n",
       "      <td>0</td>\n",
       "      <td>0</td>\n",
       "      <td>...</td>\n",
       "      <td>2</td>\n",
       "      <td>0</td>\n",
       "      <td>0</td>\n",
       "      <td>0</td>\n",
       "      <td>0</td>\n",
       "      <td>0</td>\n",
       "      <td>0</td>\n",
       "      <td>1</td>\n",
       "      <td>0</td>\n",
       "      <td>0</td>\n",
       "    </tr>\n",
       "  </tbody>\n",
       "</table>\n",
       "<p>7 rows × 74 columns</p>\n",
       "</div>"
      ],
      "text/plain": [
       "movie_averageRating   1.5  1.6  1.9  2.0  2.1  2.2  2.4  2.5  2.6  2.8  ...  \\\n",
       "runtime_minutes_bins                                                    ...   \n",
       "(60, 75]                0    0    0    1    0    0    0    0    0    0  ...   \n",
       "(75, 100]               1    0    2    0    2    2    2    2    0    3  ...   \n",
       "(100, 125]              0    1    0    0    1    0    1    0    1    1  ...   \n",
       "(125, 150]              0    0    0    0    0    0    0    0    0    0  ...   \n",
       "(150, 175]              0    0    0    0    0    0    0    0    0    0  ...   \n",
       "(175, 200]              0    0    0    0    0    0    0    0    0    0  ...   \n",
       "(200, 280]              0    0    0    0    0    0    0    0    0    0  ...   \n",
       "\n",
       "movie_averageRating   8.3  8.4  8.5  8.6  8.7  8.8  8.9  9.0  9.2  9.3  \n",
       "runtime_minutes_bins                                                    \n",
       "(60, 75]                0    0    0    0    0    0    0    1    0    0  \n",
       "(75, 100]               4    0    2    1    0    0    0    0    0    0  \n",
       "(100, 125]              6    4    6    2    1    1    0    0    0    0  \n",
       "(125, 150]              5    3    3    2    3    3    0    0    0    1  \n",
       "(150, 175]              4    3    3    2    0    0    1    1    1    0  \n",
       "(175, 200]              1    2    0    1    0    2    0    0    0    0  \n",
       "(200, 280]              2    0    0    0    0    0    0    1    0    0  \n",
       "\n",
       "[7 rows x 74 columns]"
      ]
     },
     "execution_count": 97,
     "metadata": {},
     "output_type": "execute_result"
    }
   ],
   "source": [
    "df_second_cross = pd.crosstab(temporary_runtime_df['runtime_minutes_bins'], temporary_df['movie_averageRating'])\n",
    "df_second_cross"
   ]
  },
  {
   "cell_type": "markdown",
   "id": "b8bfdfb4",
   "metadata": {},
   "source": [
    "# Finding if there is a valid correlation using Chi-squared"
   ]
  },
  {
   "cell_type": "code",
   "execution_count": 98,
   "id": "9c0fc1f2",
   "metadata": {},
   "outputs": [
    {
     "data": {
      "text/plain": [
       "6.6    208\n",
       "6.4    203\n",
       "6.2    199\n",
       "6.5    182\n",
       "6.7    173\n",
       "      ... \n",
       "2.0      1\n",
       "1.6      1\n",
       "8.9      1\n",
       "9.2      1\n",
       "2.6      1\n",
       "Name: movie_averageRating, Length: 74, dtype: int64"
      ]
     },
     "execution_count": 98,
     "metadata": {},
     "output_type": "execute_result"
    }
   ],
   "source": [
    "count_averageRating = temporary_df['movie_averageRating'].value_counts()\n",
    "count_averageRating"
   ]
  },
  {
   "cell_type": "code",
   "execution_count": 113,
   "id": "e9fb06f0",
   "metadata": {},
   "outputs": [
    {
     "data": {
      "text/plain": [
       "6.6    59.189189\n",
       "6.4    59.189189\n",
       "6.2    59.189189\n",
       "6.5    59.189189\n",
       "6.7    59.189189\n",
       "         ...    \n",
       "2.0    59.189189\n",
       "1.6    59.189189\n",
       "8.9    59.189189\n",
       "9.2    59.189189\n",
       "2.6    59.189189\n",
       "Length: 74, dtype: float64"
      ]
     },
     "execution_count": 113,
     "metadata": {},
     "output_type": "execute_result"
    }
   ],
   "source": [
    "expected_count_averageRating = pd.Series(count_averageRating.sum() / 74, \n",
    "                                  index=count_averageRating.index)\n",
    "expected_count_averageRating"
   ]
  },
  {
   "cell_type": "code",
   "execution_count": 114,
   "id": "0d8919d2",
   "metadata": {},
   "outputs": [
    {
     "data": {
      "text/plain": [
       "Power_divergenceResult(statistic=5165.459360730592, pvalue=0.0)"
      ]
     },
     "execution_count": 114,
     "metadata": {},
     "output_type": "execute_result"
    }
   ],
   "source": [
    "import scipy.stats\n",
    "scipy.stats.chisquare(count_averageRating, expected_count_averageRating, axis=None)"
   ]
  },
  {
   "cell_type": "code",
   "execution_count": 118,
   "id": "2e85930c",
   "metadata": {},
   "outputs": [
    {
     "data": {
      "text/plain": [
       "(100, 125]    2004\n",
       "(75, 100]     1599\n",
       "(125, 150]     583\n",
       "(150, 175]     121\n",
       "(175, 200]      41\n",
       "(60, 75]        17\n",
       "(200, 280]      15\n",
       "Name: runtime_minutes_bins, dtype: int64"
      ]
     },
     "execution_count": 118,
     "metadata": {},
     "output_type": "execute_result"
    }
   ],
   "source": [
    "count_runtime_minutes_bins = temporary_runtime_df['runtime_minutes_bins'].value_counts()\n",
    "count_runtime_minutes_bins"
   ]
  },
  {
   "cell_type": "code",
   "execution_count": 119,
   "id": "cf8f2b3b",
   "metadata": {},
   "outputs": [
    {
     "data": {
      "text/plain": [
       "(100, 125]    625.714286\n",
       "(75, 100]     625.714286\n",
       "(125, 150]    625.714286\n",
       "(150, 175]    625.714286\n",
       "(175, 200]    625.714286\n",
       "(60, 75]      625.714286\n",
       "(200, 280]    625.714286\n",
       "dtype: float64"
      ]
     },
     "execution_count": 119,
     "metadata": {},
     "output_type": "execute_result"
    }
   ],
   "source": [
    "expected_count_runtime_minutes_bins = pd.Series(count_runtime_minutes_bins.sum() / 7, \n",
    "                                  index=count_driver_age_bins.index)\n",
    "expected_count_runtime_minutes_bins"
   ]
  },
  {
   "cell_type": "code",
   "execution_count": 120,
   "id": "dc4edac0",
   "metadata": {},
   "outputs": [
    {
     "data": {
      "text/plain": [
       "Power_divergenceResult(statistic=6694.610502283105, pvalue=0.0)"
      ]
     },
     "execution_count": 120,
     "metadata": {},
     "output_type": "execute_result"
    }
   ],
   "source": [
    "import scipy.stats\n",
    "scipy.stats.chisquare(count_runtime_minutes_bins, expected_count_runtime_minutes_bins, axis=None)"
   ]
  },
  {
   "cell_type": "code",
   "execution_count": null,
   "id": "571d46c3",
   "metadata": {},
   "outputs": [],
   "source": []
  }
 ],
 "metadata": {
  "kernelspec": {
   "display_name": "Python 3 (ipykernel)",
   "language": "python",
   "name": "python3"
  },
  "language_info": {
   "codemirror_mode": {
    "name": "ipython",
    "version": 3
   },
   "file_extension": ".py",
   "mimetype": "text/x-python",
   "name": "python",
   "nbconvert_exporter": "python",
   "pygments_lexer": "ipython3",
   "version": "3.9.12"
  }
 },
 "nbformat": 4,
 "nbformat_minor": 5
}
